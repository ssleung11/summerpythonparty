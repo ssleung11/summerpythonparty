{
 "cells": [
  {
   "cell_type": "markdown",
   "metadata": {},
   "source": [
    "<h1>Syntax and Variables</h1>\n",
    "The basics of using Python in Jupyter Notebooks"
   ]
  },
  {
   "cell_type": "raw",
   "metadata": {},
   "source": [
    "This is a cell.\n",
    "\n",
    "Cells can be one of four types. Code, Markdown, Raw NBConvert, and Heading\n",
    "Most of your cells will be Code and Markdown, the other two are special cases.\n",
    "\n",
    "Markdown is written similarly to HTML. The above cell is a Markdown cell.\n",
    "Code is written in Python. The following cell is a Code cell.\n",
    "\n",
    "You can add more cells by clicking the plus sign in the toolbar."
   ]
  },
  {
   "cell_type": "markdown",
   "metadata": {},
   "source": [
    "<h2> I. Code cells run Python </h2>\n",
    "Every line in a code cell is a executable line in Python.<br>\n",
    "Python uses carriage returns to separate lines of code. <br>\n",
    "\n",
    "Example:\n",
    "This is a valid code block\n",
    ">x = 2 <br>\n",
    "print (x)\n",
    "\n",
    "But this is invalid\n",
    ">x = 2 print (x)\n"
   ]
  },
  {
   "cell_type": "code",
   "execution_count": null,
   "metadata": {},
   "outputs": [],
   "source": [
    "# The # mark is to comment a line in Python. It allows annotation\n",
    "# In Jupyter Notebooks, an entire cell can be annotation, as in the above cell.\n",
    "\n",
    "'''Or you might find comments like these multi line comments in triple quotes\n",
    "This is how Python marks code within a code block. Cells cannot be inserted in the\n",
    "middle of your code, so keep these options in mind.'''\n"
   ]
  },
  {
   "cell_type": "code",
   "execution_count": 2,
   "metadata": {},
   "outputs": [
    {
     "name": "stdout",
     "output_type": "stream",
     "text": [
      "2\n"
     ]
    }
   ],
   "source": [
    "# In this cell, you can experiment with line breaks in Python.\n",
    "\n",
    "x = 2\n",
    "print (x)\n"
   ]
  },
  {
   "cell_type": "markdown",
   "metadata": {},
   "source": [
    "<h2> Indentation </h2>\n",
    "\n",
    "Indentation is used to continue from a previous line while respecting the line break.<br>\n",
    "Conditional and iterative code uses a colon mark, the <b>:</b>, to declare it will read another line.<br> The indentation marks that it is subordinate code to an above statement. <br>"
   ]
  },
  {
   "cell_type": "code",
   "execution_count": 2,
   "metadata": {},
   "outputs": [
    {
     "name": "stdout",
     "output_type": "stream",
     "text": [
      "x is two!\n"
     ]
    }
   ],
   "source": [
    "# Example code\n",
    "# Conditional If-statements end with : and are followed by indented lines that run if the condition is true\n",
    "\n",
    "x = 2\n",
    "if x == 4:\n",
    "    print(\"x is four!\")\n",
    "if x == 2:\n",
    "    print(\"x is two!\")"
   ]
  },
  {
   "cell_type": "markdown",
   "metadata": {},
   "source": [
    "<h2> Jupyter allows cells to build off each other </h2>\n",
    "Any cell that has run can be referenced in other cells. <br>\n",
    "Below, the two cells must be run in the correct order to properly print the value.<br>\n",
    "\n",
    "In this case, the naming of value must come before the print statement"
   ]
  },
  {
   "cell_type": "code",
   "execution_count": 1,
   "metadata": {},
   "outputs": [
    {
     "ename": "NameError",
     "evalue": "name 'value' is not defined",
     "output_type": "error",
     "traceback": [
      "\u001b[1;31m---------------------------------------------------------------------------\u001b[0m",
      "\u001b[1;31mNameError\u001b[0m                                 Traceback (most recent call last)",
      "\u001b[1;32m<ipython-input-1-a458d288e6eb>\u001b[0m in \u001b[0;36m<module>\u001b[1;34m\u001b[0m\n\u001b[1;32m----> 1\u001b[1;33m \u001b[0mprint\u001b[0m\u001b[1;33m(\u001b[0m\u001b[0mvalue\u001b[0m\u001b[1;33m)\u001b[0m\u001b[1;33m\u001b[0m\u001b[1;33m\u001b[0m\u001b[0m\n\u001b[0m",
      "\u001b[1;31mNameError\u001b[0m: name 'value' is not defined"
     ]
    }
   ],
   "source": [
    "print(value)"
   ]
  },
  {
   "cell_type": "code",
   "execution_count": null,
   "metadata": {},
   "outputs": [],
   "source": [
    "value = 3"
   ]
  },
  {
   "cell_type": "markdown",
   "metadata": {
    "scrolled": false
   },
   "source": [
    "<h2> II. Error Types</h2>\n",
    "In Python we have three types of errors<br>\n",
    "Syntax, Runtime, and Logic errors"
   ]
  },
  {
   "cell_type": "markdown",
   "metadata": {},
   "source": [
    "<h5>Syntax Errors</h5>\n",
    "Syntax errors occur when we have written code that Python does not know how to execute. <br>\n",
    "These can be missing or extra characters, unexpected breaks or insertions, or they could be incorrect usage of any particular method. <br>They can be hard to find, but the error message usually reveals where the problems exist. "
   ]
  },
  {
   "cell_type": "code",
   "execution_count": 3,
   "metadata": {
    "scrolled": true
   },
   "outputs": [
    {
     "ename": "SyntaxError",
     "evalue": "invalid syntax (<ipython-input-3-c7ed655255a6>, line 3)",
     "output_type": "error",
     "traceback": [
      "\u001b[1;36m  File \u001b[1;32m\"<ipython-input-3-c7ed655255a6>\"\u001b[1;36m, line \u001b[1;32m3\u001b[0m\n\u001b[1;33m    i =\u001b[0m\n\u001b[1;37m       ^\u001b[0m\n\u001b[1;31mSyntaxError\u001b[0m\u001b[1;31m:\u001b[0m invalid syntax\n"
     ]
    }
   ],
   "source": [
    "#Synatx Error\n",
    "#This line is meant to name the value of i to 3, but it has an unexpected line break\n",
    "i =\n",
    "3\n"
   ]
  },
  {
   "cell_type": "markdown",
   "metadata": {},
   "source": [
    "<h5>Runtime Errors</h5>\n",
    "Runtime errors occur when a line of code breaks as we try to use it. <br>\n",
    "These can be unhandled conditional statements or infinite loop problems. <br>They are typically emergent problems from code that cannot handle all the situations that it is being used for.<br>\n",
    "Application crashes are usually some kind of runtime error"
   ]
  },
  {
   "cell_type": "code",
   "execution_count": 8,
   "metadata": {
    "scrolled": false
   },
   "outputs": [
    {
     "ename": "IndexError",
     "evalue": "tuple index out of range",
     "output_type": "error",
     "traceback": [
      "\u001b[1;31m---------------------------------------------------------------------------\u001b[0m",
      "\u001b[1;31mIndexError\u001b[0m                                Traceback (most recent call last)",
      "\u001b[1;32m<ipython-input-8-bf6c4612f77e>\u001b[0m in \u001b[0;36m<module>\u001b[1;34m\u001b[0m\n\u001b[0;32m      3\u001b[0m \u001b[1;31m#The syntax is valid, but breaks when it tries to actually reference the value\u001b[0m\u001b[1;33m\u001b[0m\u001b[1;33m\u001b[0m\u001b[1;33m\u001b[0m\u001b[0m\n\u001b[0;32m      4\u001b[0m \u001b[0mi\u001b[0m \u001b[1;33m=\u001b[0m \u001b[1;33m(\u001b[0m\u001b[1;36m1\u001b[0m\u001b[1;33m,\u001b[0m\u001b[1;36m2\u001b[0m\u001b[1;33m,\u001b[0m\u001b[1;36m3\u001b[0m\u001b[1;33m,\u001b[0m\u001b[1;36m4\u001b[0m\u001b[1;33m,\u001b[0m\u001b[1;36m5\u001b[0m\u001b[1;33m)\u001b[0m\u001b[1;33m\u001b[0m\u001b[1;33m\u001b[0m\u001b[0m\n\u001b[1;32m----> 5\u001b[1;33m \u001b[0mprint\u001b[0m \u001b[1;33m(\u001b[0m\u001b[0mi\u001b[0m\u001b[1;33m[\u001b[0m\u001b[1;36m7\u001b[0m\u001b[1;33m]\u001b[0m\u001b[1;33m)\u001b[0m\u001b[1;33m\u001b[0m\u001b[1;33m\u001b[0m\u001b[0m\n\u001b[0m",
      "\u001b[1;31mIndexError\u001b[0m: tuple index out of range"
     ]
    }
   ],
   "source": [
    "#Runtime error\n",
    "#This code tries to reference a value within i that does not exist. \n",
    "#i only has 5 values, but we try to reference a 7th\n",
    "#The syntax is valid, but breaks when it tries to actually reference the value\n",
    "\n",
    "i = (1,2,3,4,5)\n",
    "print (i[7])"
   ]
  },
  {
   "cell_type": "markdown",
   "metadata": {},
   "source": [
    "<h5>Logical Errors</h5>\n",
    "Logical errors are errors of execution. <br>\n",
    "The program will run, it will have no syntax errors or runtime error <br>\n",
    "The output is not expected<br>\n",
    "The logic of the code is incorrect.\n",
    "It's vital to look through code and know what it is supposed to do to prevent these"
   ]
  },
  {
   "cell_type": "code",
   "execution_count": 10,
   "metadata": {
    "scrolled": false
   },
   "outputs": [
    {
     "name": "stdout",
     "output_type": "stream",
     "text": [
      "The average is\n",
      "10.0\n"
     ]
    }
   ],
   "source": [
    "#Logical Error\n",
    "#This code purports to show the average of two values.\n",
    "#But its logic is incorrect, leading to the wrong calculation.\n",
    "\n",
    "x = 5\n",
    "y = 10\n",
    "average = x + y / 2\n",
    "print(\"The average is\")\n",
    "print(average)"
   ]
  },
  {
   "cell_type": "markdown",
   "metadata": {},
   "source": [
    "<h2> III. Variables <h2>\n",
    "Variables exist in Python through naming.\n",
    "    You do not need to declare variables \n",
    "    before using them, or even declare their types."
   ]
  },
  {
   "cell_type": "markdown",
   "metadata": {},
   "source": [
    "<h3>Let us first look at local and global variables : </h3>\n",
    "\n",
    "Local variables are defined for a specific function or method. <br>\n",
    "Used when they are not needed in the entire program. <br>\n",
    "\n",
    "Global variables are declared when you want to use  <br>\n",
    "them throughout the program. <br>\n"
   ]
  },
  {
   "cell_type": "code",
   "execution_count": 8,
   "metadata": {},
   "outputs": [
    {
     "name": "stdout",
     "output_type": "stream",
     "text": [
      "101\n",
      "This is my first python sketch\n",
      "101\n"
     ]
    }
   ],
   "source": [
    "#Declare a variable and initialize it\n",
    "#In python, you can just go ahead a name a variable - \n",
    "#You need not define the memory type, eg int, float, str etc\n",
    "\n",
    "f = 101\n",
    "print(f)\n",
    "\n",
    "#global v/s local variables in functions\n",
    "#Recap - indents and blocks of code\n",
    "\n",
    "def myFunction():\n",
    "    f = \"This is my first python sketch\"\n",
    "    print(f)\n",
    "\n",
    "myFunction()\n",
    "print(f)\n",
    "    "
   ]
  },
  {
   "cell_type": "markdown",
   "metadata": {},
   "source": [
    "Note in the result above - we first declared <br>\n",
    "f = 101 ~~ this is the global variable <br>\n",
    "\n",
    "Then we defined <br>\n",
    "f = \"This is my....sketch\" <br>\n",
    "This exists only WITHIN the definition of myFunction <br>\n",
    "\n",
    "So when you say print(f) outside that function, <br>\n",
    "it just prints \"101\" the original value of f. <br>\n",
    "\n",
    "Thus in this case, f = 101 can be called a global <br>\n",
    "variable and f = \"This is my....sketch\" is local."
   ]
  },
  {
   "cell_type": "markdown",
   "metadata": {},
   "source": [
    "<h3> Next up, is Number Variables </h3>\n",
    "\n",
    "As we all know, numbers can be of different types <br>\n",
    "integers, non-integers/floats/decimals, real numbers <br>\n",
    "or even complex numbers. Lets look at how to define each."
   ]
  },
  {
   "cell_type": "code",
   "execution_count": 16,
   "metadata": {},
   "outputs": [
    {
     "name": "stdout",
     "output_type": "stream",
     "text": [
      "3 3.45\n",
      "3\n",
      "(3+4j)\n",
      "(4+10j)\n"
     ]
    }
   ],
   "source": [
    "#let's start with ints and floats\n",
    "#note how you don't have to declare a type\n",
    "\n",
    "x = 3 #this is an integer\n",
    "y = 3.45 #this is a float\n",
    "print(x, y)\n",
    "\n",
    "\n",
    "#you can also do mathematical operations on\n",
    "#variable names themselves; \n",
    "#if i were to change value of two to 4; \n",
    "#output would be equal to 5\n",
    "\n",
    "one = 1\n",
    "two = 2\n",
    "three = one + two\n",
    "print(three)\n",
    "\n",
    "#complex numbers are slighly different.\n",
    "#they have a real part and an imaginary part\n",
    "#Python has built in support for complex numbers\n",
    "\n",
    "cmplxNum = 3 + 4j #the term with a j suffix is recognised as imaginary part of the number\n",
    "print(cmplxNum)\n",
    "\n",
    "#or use a constructor method\n",
    "\n",
    "cmplxNum2 = complex(4,10)\n",
    "print(cmplxNum2)\n"
   ]
  },
  {
   "cell_type": "markdown",
   "metadata": {},
   "source": [
    "<h3> String Variables </h3>\n",
    "\n",
    "Simply define them with a \" \""
   ]
  },
  {
   "cell_type": "code",
   "execution_count": 17,
   "metadata": {},
   "outputs": [
    {
     "name": "stdout",
     "output_type": "stream",
     "text": [
      " this is my first string variable \n"
     ]
    }
   ],
   "source": [
    "myString = \" this is my first string variable \"\n",
    "print(myString)"
   ]
  },
  {
   "cell_type": "markdown",
   "metadata": {},
   "source": [
    "<h3>Type Conversion of Variables</h3>\n",
    "\n",
    "Python defines type conversion functions to directly <br>\n",
    "convert one data type to another which is useful in <br>\n",
    "day to day and competitive programming. "
   ]
  },
  {
   "cell_type": "code",
   "execution_count": 18,
   "metadata": {},
   "outputs": [
    {
     "ename": "TypeError",
     "evalue": "can only concatenate str (not \"int\") to str",
     "output_type": "error",
     "traceback": [
      "\u001b[1;31m---------------------------------------------------------------------------\u001b[0m",
      "\u001b[1;31mTypeError\u001b[0m                                 Traceback (most recent call last)",
      "\u001b[1;32m<ipython-input-18-84c7b3904d6e>\u001b[0m in \u001b[0;36m<module>\u001b[1;34m\u001b[0m\n\u001b[0;32m      4\u001b[0m \u001b[0mmyNum\u001b[0m \u001b[1;33m=\u001b[0m \u001b[1;36m80\u001b[0m\u001b[1;33m\u001b[0m\u001b[1;33m\u001b[0m\u001b[0m\n\u001b[0;32m      5\u001b[0m \u001b[0mmyStr\u001b[0m \u001b[1;33m=\u001b[0m \u001b[1;34m\"My grandma's age is\"\u001b[0m\u001b[1;33m\u001b[0m\u001b[1;33m\u001b[0m\u001b[0m\n\u001b[1;32m----> 6\u001b[1;33m \u001b[0mprint\u001b[0m\u001b[1;33m(\u001b[0m\u001b[0mmyStr\u001b[0m \u001b[1;33m+\u001b[0m \u001b[0mmyNum\u001b[0m\u001b[1;33m)\u001b[0m \u001b[1;31m#this will throw an error\u001b[0m\u001b[1;33m\u001b[0m\u001b[1;33m\u001b[0m\u001b[0m\n\u001b[0m",
      "\u001b[1;31mTypeError\u001b[0m: can only concatenate str (not \"int\") to str"
     ]
    }
   ],
   "source": [
    "#python gets confused when we use operators\n",
    "#like + on two different data types\n",
    "\n",
    "myNum = 80\n",
    "myStr = \"My grandma's age is\"\n",
    "print(myStr + myNum) #this will throw an error\n"
   ]
  },
  {
   "cell_type": "code",
   "execution_count": 21,
   "metadata": {},
   "outputs": [
    {
     "name": "stdout",
     "output_type": "stream",
     "text": [
      "My grandma's age is 80\n",
      "54\n",
      "9\n"
     ]
    }
   ],
   "source": [
    "#python gets confused when we use operators\n",
    "#like + on two different data types\n",
    "\n",
    "#Doing this instead will give the expected output\n",
    "\n",
    "myNum = 80\n",
    "myStr = \"My grandma's age is \"\n",
    "print(myStr + str(myNum)) #str() converts a variable type to string type\n",
    "\n",
    "#lets see if it works other way round\n",
    "num1 = \"5\" #this is currently a string\n",
    "num2 = \"4\"\n",
    "print(num1 + num2)\n",
    "print(int(num1) + int(num2)) \n",
    "#int() converts the string to an integer data type and performs the addition"
   ]
  },
  {
   "cell_type": "markdown",
   "metadata": {},
   "source": [
    "<h3>Variable Usage</h3>\n",
    "\n",
    "Python naming allows for dynamic reusing of variables by name"
   ]
  },
  {
   "cell_type": "code",
   "execution_count": 22,
   "metadata": {},
   "outputs": [
    {
     "name": "stdout",
     "output_type": "stream",
     "text": [
      "natural numbers start with 1\n",
      "the next natural number is 2\n",
      "the square of two is 4\n"
     ]
    }
   ],
   "source": [
    "x = 1\n",
    "print (\"natural numbers start with \" + str(x))\n",
    "\n",
    "x = x + 1\n",
    "print(\"the next natural number is \" + str(x))\n",
    "\n",
    "x = x * x\n",
    "print (\"the square of two is \" + str(x))"
   ]
  },
  {
   "cell_type": "code",
   "execution_count": null,
   "metadata": {},
   "outputs": [],
   "source": []
  }
 ],
 "metadata": {
  "kernelspec": {
   "display_name": "Python 3",
   "language": "python",
   "name": "python3"
  },
  "language_info": {
   "codemirror_mode": {
    "name": "ipython",
    "version": 3
   },
   "file_extension": ".py",
   "mimetype": "text/x-python",
   "name": "python",
   "nbconvert_exporter": "python",
   "pygments_lexer": "ipython3",
   "version": "3.7.4"
  }
 },
 "nbformat": 4,
 "nbformat_minor": 4
}
